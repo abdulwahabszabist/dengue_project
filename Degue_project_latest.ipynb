{
 "cells": [
  {
   "cell_type": "markdown",
   "metadata": {},
   "source": [
    "# DengAI: Predicting Disease Spread\n",
    "\n",
    "### Abdul wahab\n",
    "### 18101151"
   ]
  },
  {
   "cell_type": "code",
   "execution_count": 111,
   "metadata": {},
   "outputs": [],
   "source": [
    "import numpy as np\n",
    "import pandas as pd"
   ]
  },
  {
   "cell_type": "code",
   "execution_count": 112,
   "metadata": {},
   "outputs": [],
   "source": [
    "X_test = pd.read_csv(r'C:\\Users\\Windows 10\\Desktop\\Degue project\\dengue_features_test.csv')"
   ]
  },
  {
   "cell_type": "code",
   "execution_count": 113,
   "metadata": {},
   "outputs": [],
   "source": [
    "X_train = pd.read_csv(r'C:\\Users\\Windows 10\\Desktop\\Degue project\\dengue_features_train.csv')"
   ]
  },
  {
   "cell_type": "code",
   "execution_count": 114,
   "metadata": {},
   "outputs": [],
   "source": [
    "y_train = pd.read_csv(r'C:\\Users\\Windows 10\\Desktop\\Degue project\\dengue_labels_train.csv')"
   ]
  },
  {
   "cell_type": "code",
   "execution_count": 115,
   "metadata": {},
   "outputs": [
    {
     "data": {
      "text/plain": [
       "city                                     False\n",
       "year                                     False\n",
       "weekofyear                               False\n",
       "week_start_date                          False\n",
       "ndvi_ne                                   True\n",
       "ndvi_nw                                   True\n",
       "ndvi_se                                   True\n",
       "ndvi_sw                                   True\n",
       "precipitation_amt_mm                      True\n",
       "reanalysis_air_temp_k                     True\n",
       "reanalysis_avg_temp_k                     True\n",
       "reanalysis_dew_point_temp_k               True\n",
       "reanalysis_max_air_temp_k                 True\n",
       "reanalysis_min_air_temp_k                 True\n",
       "reanalysis_precip_amt_kg_per_m2           True\n",
       "reanalysis_relative_humidity_percent      True\n",
       "reanalysis_sat_precip_amt_mm              True\n",
       "reanalysis_specific_humidity_g_per_kg     True\n",
       "reanalysis_tdtr_k                         True\n",
       "station_avg_temp_c                        True\n",
       "station_diur_temp_rng_c                   True\n",
       "station_max_temp_c                        True\n",
       "station_min_temp_c                        True\n",
       "station_precip_mm                         True\n",
       "dtype: bool"
      ]
     },
     "execution_count": 115,
     "metadata": {},
     "output_type": "execute_result"
    }
   ],
   "source": [
    "X_train.isnull().any()"
   ]
  },
  {
   "cell_type": "code",
   "execution_count": 116,
   "metadata": {},
   "outputs": [],
   "source": [
    "X_train.fillna(0, inplace=True)"
   ]
  },
  {
   "cell_type": "code",
   "execution_count": 117,
   "metadata": {},
   "outputs": [
    {
     "data": {
      "text/plain": [
       "city                                     False\n",
       "year                                     False\n",
       "weekofyear                               False\n",
       "week_start_date                          False\n",
       "ndvi_ne                                  False\n",
       "ndvi_nw                                  False\n",
       "ndvi_se                                  False\n",
       "ndvi_sw                                  False\n",
       "precipitation_amt_mm                     False\n",
       "reanalysis_air_temp_k                    False\n",
       "reanalysis_avg_temp_k                    False\n",
       "reanalysis_dew_point_temp_k              False\n",
       "reanalysis_max_air_temp_k                False\n",
       "reanalysis_min_air_temp_k                False\n",
       "reanalysis_precip_amt_kg_per_m2          False\n",
       "reanalysis_relative_humidity_percent     False\n",
       "reanalysis_sat_precip_amt_mm             False\n",
       "reanalysis_specific_humidity_g_per_kg    False\n",
       "reanalysis_tdtr_k                        False\n",
       "station_avg_temp_c                       False\n",
       "station_diur_temp_rng_c                  False\n",
       "station_max_temp_c                       False\n",
       "station_min_temp_c                       False\n",
       "station_precip_mm                        False\n",
       "dtype: bool"
      ]
     },
     "execution_count": 117,
     "metadata": {},
     "output_type": "execute_result"
    }
   ],
   "source": [
    "X_train.isnull().any()"
   ]
  },
  {
   "cell_type": "code",
   "execution_count": 118,
   "metadata": {},
   "outputs": [
    {
     "data": {
      "text/plain": [
       "city                                     False\n",
       "year                                     False\n",
       "weekofyear                               False\n",
       "week_start_date                          False\n",
       "ndvi_ne                                   True\n",
       "ndvi_nw                                   True\n",
       "ndvi_se                                   True\n",
       "ndvi_sw                                   True\n",
       "precipitation_amt_mm                      True\n",
       "reanalysis_air_temp_k                     True\n",
       "reanalysis_avg_temp_k                     True\n",
       "reanalysis_dew_point_temp_k               True\n",
       "reanalysis_max_air_temp_k                 True\n",
       "reanalysis_min_air_temp_k                 True\n",
       "reanalysis_precip_amt_kg_per_m2           True\n",
       "reanalysis_relative_humidity_percent      True\n",
       "reanalysis_sat_precip_amt_mm              True\n",
       "reanalysis_specific_humidity_g_per_kg     True\n",
       "reanalysis_tdtr_k                         True\n",
       "station_avg_temp_c                        True\n",
       "station_diur_temp_rng_c                   True\n",
       "station_max_temp_c                        True\n",
       "station_min_temp_c                        True\n",
       "station_precip_mm                         True\n",
       "dtype: bool"
      ]
     },
     "execution_count": 118,
     "metadata": {},
     "output_type": "execute_result"
    }
   ],
   "source": [
    "X_test.isnull().any()"
   ]
  },
  {
   "cell_type": "code",
   "execution_count": 119,
   "metadata": {},
   "outputs": [],
   "source": [
    "X_test.fillna(0, inplace=True)"
   ]
  },
  {
   "cell_type": "code",
   "execution_count": 120,
   "metadata": {},
   "outputs": [
    {
     "data": {
      "text/plain": [
       "city                                     False\n",
       "year                                     False\n",
       "weekofyear                               False\n",
       "week_start_date                          False\n",
       "ndvi_ne                                  False\n",
       "ndvi_nw                                  False\n",
       "ndvi_se                                  False\n",
       "ndvi_sw                                  False\n",
       "precipitation_amt_mm                     False\n",
       "reanalysis_air_temp_k                    False\n",
       "reanalysis_avg_temp_k                    False\n",
       "reanalysis_dew_point_temp_k              False\n",
       "reanalysis_max_air_temp_k                False\n",
       "reanalysis_min_air_temp_k                False\n",
       "reanalysis_precip_amt_kg_per_m2          False\n",
       "reanalysis_relative_humidity_percent     False\n",
       "reanalysis_sat_precip_amt_mm             False\n",
       "reanalysis_specific_humidity_g_per_kg    False\n",
       "reanalysis_tdtr_k                        False\n",
       "station_avg_temp_c                       False\n",
       "station_diur_temp_rng_c                  False\n",
       "station_max_temp_c                       False\n",
       "station_min_temp_c                       False\n",
       "station_precip_mm                        False\n",
       "dtype: bool"
      ]
     },
     "execution_count": 120,
     "metadata": {},
     "output_type": "execute_result"
    }
   ],
   "source": [
    "X_test.isnull().any()"
   ]
  },
  {
   "cell_type": "code",
   "execution_count": 121,
   "metadata": {},
   "outputs": [],
   "source": [
    "# Removing the coloumns\n",
    "X_train.drop(['city', 'year', 'weekofyear', 'week_start_date'], axis=1, inplace=True)\n",
    "X_test.drop(['city', 'year', 'weekofyear', 'week_start_date'], axis=1, inplace=True)\n",
    "\n",
    "# Selecting y values\n",
    "y_train = y_train.total_cases.loc[X_train.index]"
   ]
  },
  {
   "cell_type": "code",
   "execution_count": 122,
   "metadata": {},
   "outputs": [],
   "source": [
    "from sklearn import preprocessing\n",
    "\n",
    "#normalizing the data\n",
    "normalized_X_test = preprocessing.normalize(X_test)\n",
    "normalized_X_train = preprocessing.normalize(X_train)"
   ]
  },
  {
   "cell_type": "code",
   "execution_count": 123,
   "metadata": {},
   "outputs": [],
   "source": [
    "from sklearn.neighbors import KNeighborsRegressor\n",
    "\n",
    "neigh = KNeighborsRegressor(n_neighbors=13)\n",
    "neigh.fit(normalized_X_train, y_train)\n",
    "\n",
    "y_pred = neigh.predict(normalized_X_test)"
   ]
  },
  {
   "cell_type": "code",
   "execution_count": 124,
   "metadata": {},
   "outputs": [],
   "source": [
    "y_pred = y_pred.astype('int64')\n",
    "\n",
    "submission_format = pd.read_csv(r'C:\\Users\\Windows 10\\Desktop\\Degue project\\submission_format.csv')"
   ]
  },
  {
   "cell_type": "code",
   "execution_count": 125,
   "metadata": {},
   "outputs": [],
   "source": [
    "submission_format.total_cases= y_pred\n",
    "exported_output = submission_format.to_csv(r'C:\\Users\\Windows 10\\Desktop\\Degue project\\exported_output_6.csv' , index = None, header = True)"
   ]
  },
  {
   "cell_type": "code",
   "execution_count": null,
   "metadata": {},
   "outputs": [],
   "source": []
  }
 ],
 "metadata": {
  "kernelspec": {
   "display_name": "Python 3",
   "language": "python",
   "name": "python3"
  },
  "language_info": {
   "codemirror_mode": {
    "name": "ipython",
    "version": 3
   },
   "file_extension": ".py",
   "mimetype": "text/x-python",
   "name": "python",
   "nbconvert_exporter": "python",
   "pygments_lexer": "ipython3",
   "version": "3.6.4"
  }
 },
 "nbformat": 4,
 "nbformat_minor": 2
}
