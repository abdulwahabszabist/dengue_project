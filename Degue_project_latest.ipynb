{
 "cells": [
  {
   "cell_type": "code",
   "execution_count": 81,
   "metadata": {},
   "outputs": [],
   "source": [
    "import numpy as np\n",
    "import pandas as pd"
   ]
  },
  {
   "cell_type": "code",
   "execution_count": 82,
   "metadata": {},
   "outputs": [],
   "source": [
    "X_test = pd.read_csv(r'C:\\Users\\Windows 10\\Desktop\\Degue project\\dengue_features_test.csv')"
   ]
  },
  {
   "cell_type": "code",
   "execution_count": 83,
   "metadata": {},
   "outputs": [],
   "source": [
    "X_train = pd.read_csv(r'C:\\Users\\Windows 10\\Desktop\\Degue project\\dengue_features_train.csv')"
   ]
  },
  {
   "cell_type": "code",
   "execution_count": 84,
   "metadata": {},
   "outputs": [],
   "source": [
    "y_train = pd.read_csv(r'C:\\Users\\Windows 10\\Desktop\\Degue project\\dengue_labels_train.csv')"
   ]
  },
  {
   "cell_type": "code",
   "execution_count": 85,
   "metadata": {},
   "outputs": [
    {
     "data": {
      "text/plain": [
       "city                                     False\n",
       "year                                     False\n",
       "weekofyear                               False\n",
       "week_start_date                          False\n",
       "ndvi_ne                                   True\n",
       "ndvi_nw                                   True\n",
       "ndvi_se                                   True\n",
       "ndvi_sw                                   True\n",
       "precipitation_amt_mm                      True\n",
       "reanalysis_air_temp_k                     True\n",
       "reanalysis_avg_temp_k                     True\n",
       "reanalysis_dew_point_temp_k               True\n",
       "reanalysis_max_air_temp_k                 True\n",
       "reanalysis_min_air_temp_k                 True\n",
       "reanalysis_precip_amt_kg_per_m2           True\n",
       "reanalysis_relative_humidity_percent      True\n",
       "reanalysis_sat_precip_amt_mm              True\n",
       "reanalysis_specific_humidity_g_per_kg     True\n",
       "reanalysis_tdtr_k                         True\n",
       "station_avg_temp_c                        True\n",
       "station_diur_temp_rng_c                   True\n",
       "station_max_temp_c                        True\n",
       "station_min_temp_c                        True\n",
       "station_precip_mm                         True\n",
       "dtype: bool"
      ]
     },
     "execution_count": 85,
     "metadata": {},
     "output_type": "execute_result"
    }
   ],
   "source": [
    "X_train.isnull().any()"
   ]
  },
  {
   "cell_type": "code",
   "execution_count": 86,
   "metadata": {},
   "outputs": [],
   "source": [
    "X_train.fillna(0, inplace=True)"
   ]
  },
  {
   "cell_type": "code",
   "execution_count": 87,
   "metadata": {},
   "outputs": [
    {
     "data": {
      "text/plain": [
       "city                                     False\n",
       "year                                     False\n",
       "weekofyear                               False\n",
       "week_start_date                          False\n",
       "ndvi_ne                                  False\n",
       "ndvi_nw                                  False\n",
       "ndvi_se                                  False\n",
       "ndvi_sw                                  False\n",
       "precipitation_amt_mm                     False\n",
       "reanalysis_air_temp_k                    False\n",
       "reanalysis_avg_temp_k                    False\n",
       "reanalysis_dew_point_temp_k              False\n",
       "reanalysis_max_air_temp_k                False\n",
       "reanalysis_min_air_temp_k                False\n",
       "reanalysis_precip_amt_kg_per_m2          False\n",
       "reanalysis_relative_humidity_percent     False\n",
       "reanalysis_sat_precip_amt_mm             False\n",
       "reanalysis_specific_humidity_g_per_kg    False\n",
       "reanalysis_tdtr_k                        False\n",
       "station_avg_temp_c                       False\n",
       "station_diur_temp_rng_c                  False\n",
       "station_max_temp_c                       False\n",
       "station_min_temp_c                       False\n",
       "station_precip_mm                        False\n",
       "dtype: bool"
      ]
     },
     "execution_count": 87,
     "metadata": {},
     "output_type": "execute_result"
    }
   ],
   "source": [
    "X_train.isnull().any()"
   ]
  },
  {
   "cell_type": "code",
   "execution_count": 88,
   "metadata": {},
   "outputs": [
    {
     "data": {
      "text/plain": [
       "city                                     False\n",
       "year                                     False\n",
       "weekofyear                               False\n",
       "week_start_date                          False\n",
       "ndvi_ne                                   True\n",
       "ndvi_nw                                   True\n",
       "ndvi_se                                   True\n",
       "ndvi_sw                                   True\n",
       "precipitation_amt_mm                      True\n",
       "reanalysis_air_temp_k                     True\n",
       "reanalysis_avg_temp_k                     True\n",
       "reanalysis_dew_point_temp_k               True\n",
       "reanalysis_max_air_temp_k                 True\n",
       "reanalysis_min_air_temp_k                 True\n",
       "reanalysis_precip_amt_kg_per_m2           True\n",
       "reanalysis_relative_humidity_percent      True\n",
       "reanalysis_sat_precip_amt_mm              True\n",
       "reanalysis_specific_humidity_g_per_kg     True\n",
       "reanalysis_tdtr_k                         True\n",
       "station_avg_temp_c                        True\n",
       "station_diur_temp_rng_c                   True\n",
       "station_max_temp_c                        True\n",
       "station_min_temp_c                        True\n",
       "station_precip_mm                         True\n",
       "dtype: bool"
      ]
     },
     "execution_count": 88,
     "metadata": {},
     "output_type": "execute_result"
    }
   ],
   "source": [
    "X_test.isnull().any()"
   ]
  },
  {
   "cell_type": "code",
   "execution_count": 89,
   "metadata": {},
   "outputs": [],
   "source": [
    "X_test.fillna(0, inplace=True)"
   ]
  },
  {
   "cell_type": "code",
   "execution_count": 90,
   "metadata": {},
   "outputs": [
    {
     "data": {
      "text/plain": [
       "city                                     False\n",
       "year                                     False\n",
       "weekofyear                               False\n",
       "week_start_date                          False\n",
       "ndvi_ne                                  False\n",
       "ndvi_nw                                  False\n",
       "ndvi_se                                  False\n",
       "ndvi_sw                                  False\n",
       "precipitation_amt_mm                     False\n",
       "reanalysis_air_temp_k                    False\n",
       "reanalysis_avg_temp_k                    False\n",
       "reanalysis_dew_point_temp_k              False\n",
       "reanalysis_max_air_temp_k                False\n",
       "reanalysis_min_air_temp_k                False\n",
       "reanalysis_precip_amt_kg_per_m2          False\n",
       "reanalysis_relative_humidity_percent     False\n",
       "reanalysis_sat_precip_amt_mm             False\n",
       "reanalysis_specific_humidity_g_per_kg    False\n",
       "reanalysis_tdtr_k                        False\n",
       "station_avg_temp_c                       False\n",
       "station_diur_temp_rng_c                  False\n",
       "station_max_temp_c                       False\n",
       "station_min_temp_c                       False\n",
       "station_precip_mm                        False\n",
       "dtype: bool"
      ]
     },
     "execution_count": 90,
     "metadata": {},
     "output_type": "execute_result"
    }
   ],
   "source": [
    "X_test.isnull().any()"
   ]
  },
  {
   "cell_type": "code",
   "execution_count": 91,
   "metadata": {},
   "outputs": [],
   "source": [
    "# Removing the coloumns\n",
    "X_train.drop(['city', 'year', 'weekofyear', 'week_start_date'], axis=1, inplace=True)\n",
    "X_test.drop(['city', 'year', 'weekofyear', 'week_start_date'], axis=1, inplace=True)\n",
    "\n",
    "# Selecting y values\n",
    "y_train = y_train.total_cases.loc[X_train.index]"
   ]
  },
  {
   "cell_type": "code",
   "execution_count": 107,
   "metadata": {},
   "outputs": [],
   "source": [
    "from sklearn import preprocessing\n",
    "\n",
    "#normalizing the data\n",
    "normalized_X_test = preprocessing.normalize(X_test)\n",
    "normalized_X_train = preprocessing.normalize(X_train)"
   ]
  },
  {
   "cell_type": "code",
   "execution_count": 108,
   "metadata": {},
   "outputs": [
    {
     "data": {
      "text/plain": [
       "array([18.98, 33.08, 20.06, 18.6 , 27.28, 44.98, 19.82, 22.9 , 20.38,\n",
       "       26.3 , 28.  , 21.4 , 34.5 , 23.06, 36.36, 28.84, 50.24, 37.64,\n",
       "       29.24, 22.92, 28.56, 23.8 , 32.56, 39.9 , 14.22, 40.26, 24.72,\n",
       "       35.96, 30.16, 55.84, 36.94, 18.3 , 24.1 , 33.66, 26.48, 11.6 ,\n",
       "       16.46, 21.18, 27.58, 25.52, 26.76, 42.44, 30.04, 17.94, 36.62,\n",
       "       30.14, 19.96, 22.5 , 19.48, 26.36, 17.26, 20.32, 27.2 , 25.92,\n",
       "       29.88, 59.5 , 22.32, 35.74, 25.14, 18.46, 24.7 , 26.62, 29.3 ,\n",
       "       36.38, 22.78, 62.74, 39.32, 30.78, 15.08, 36.38, 29.66, 42.9 ,\n",
       "       22.94, 31.24, 26.88, 35.52, 38.44, 22.7 , 29.66, 25.5 , 15.74,\n",
       "       17.3 , 24.44, 28.14, 24.26, 24.22, 20.3 , 24.26, 39.34, 37.08,\n",
       "       12.3 , 20.24, 19.88, 16.14, 18.64, 38.2 , 24.42, 43.44, 26.1 ,\n",
       "       19.7 , 21.02, 17.74, 23.96, 54.86, 27.92, 31.84, 36.36, 35.08,\n",
       "       28.98, 19.6 , 36.46, 29.26, 18.1 , 17.34, 45.  , 37.34, 24.58,\n",
       "       12.96, 29.04, 30.68, 18.84, 38.04, 25.04, 26.12, 22.84, 50.98,\n",
       "       52.52, 28.1 , 17.7 , 19.06, 28.44, 53.94, 25.76, 42.46, 21.64,\n",
       "       35.5 , 16.82, 24.06, 15.36, 23.58, 18.68, 21.42, 21.14, 17.92,\n",
       "       21.04, 28.36, 22.94, 26.32, 16.5 , 17.64, 17.2 , 26.16, 30.28,\n",
       "       26.26, 27.58, 25.32, 19.16, 25.14, 26.56, 13.92, 14.82, 17.54,\n",
       "       19.4 , 13.92, 35.68, 39.14, 29.88, 24.86, 15.6 , 28.24, 32.94,\n",
       "       18.44, 26.16, 14.96, 18.8 , 28.48, 30.32, 28.92, 29.18, 22.56,\n",
       "       17.4 , 29.64, 31.  , 22.36, 34.46, 25.42, 29.54, 46.4 , 27.2 ,\n",
       "       27.14, 20.16, 36.52, 18.52, 23.08, 20.36, 21.1 , 23.14, 19.18,\n",
       "       26.96, 29.66, 20.46, 23.78, 20.74, 40.  , 19.34, 17.42, 30.6 ,\n",
       "       37.76, 27.84, 20.66, 27.64, 23.14, 35.  , 30.42, 29.94, 18.9 ,\n",
       "       21.66, 31.88, 32.3 , 19.3 , 30.92, 51.5 , 31.18, 33.24, 20.66,\n",
       "       29.38, 15.66, 28.2 , 26.7 , 24.66, 28.74, 19.06, 30.12, 40.84,\n",
       "       35.8 , 21.84, 27.2 , 47.58, 29.86, 44.2 , 31.24, 24.84, 20.52,\n",
       "       24.86, 27.96, 20.74, 19.3 , 20.88, 20.82, 23.42, 16.38, 17.6 ,\n",
       "       27.84, 24.16, 17.82, 20.6 , 33.12, 27.42, 20.8 , 23.36, 31.62,\n",
       "       22.72, 29.28, 21.54, 24.42, 32.72, 13.16, 25.4 , 21.56, 24.06,\n",
       "       28.68, 26.3 , 23.78, 15.96, 19.6 , 23.32, 25.08, 24.94, 27.32,\n",
       "       13.68, 18.46, 35.34, 34.84, 22.14, 31.22, 15.24, 14.1 , 25.64,\n",
       "       23.72, 24.78, 25.8 , 29.76, 22.06, 14.82, 25.08, 27.12, 20.4 ,\n",
       "       20.48, 27.8 , 23.6 , 26.3 , 21.6 , 20.42, 18.44, 20.36, 23.22,\n",
       "       19.36, 28.72, 16.66, 27.46, 16.82, 19.9 , 27.98, 28.52, 26.7 ,\n",
       "       39.52, 23.92, 36.86, 36.98, 20.6 , 27.16, 20.1 , 23.64, 22.74,\n",
       "       30.82, 25.02, 22.6 , 38.44, 16.26, 29.22, 51.34, 13.48, 13.64,\n",
       "       13.7 , 21.3 , 26.08, 20.64, 15.4 , 20.24, 19.64, 18.74, 20.06,\n",
       "       15.68, 26.94, 19.36, 16.9 , 23.86, 16.32, 22.06, 17.88, 23.36,\n",
       "       24.98, 17.72, 16.26, 14.24, 22.46, 21.76, 14.96, 20.82, 19.04,\n",
       "       35.06, 26.72, 13.12, 22.18, 16.  , 28.58, 19.38, 23.72, 14.86,\n",
       "       15.2 , 21.52, 25.9 , 30.68, 22.86, 20.  , 22.18, 17.86, 32.72,\n",
       "       20.84, 26.16, 15.56, 29.08, 31.92, 18.5 , 25.6 , 34.52, 30.3 ,\n",
       "       29.34, 21.94, 18.06, 41.68, 33.84, 16.68, 23.12, 28.78, 23.42,\n",
       "       15.56, 19.62, 15.66, 15.48, 38.02, 18.42, 22.64, 24.18, 15.16,\n",
       "       24.74, 15.28, 22.88, 18.5 , 27.26, 22.26, 28.82, 14.42, 18.06,\n",
       "       15.82, 18.1 ])"
      ]
     },
     "execution_count": 108,
     "metadata": {},
     "output_type": "execute_result"
    }
   ],
   "source": [
    "from sklearn.neighbors import KNeighborsRegressor\n",
    "\n",
    "neigh = KNeighborsRegressor(n_neighbors=13)\n",
    "neigh.fit(normalized_X_train, y_train)\n",
    "\n",
    "y_pred = neigh.predict(normalized_X_test)\n",
    "\n",
    "y_pred"
   ]
  },
  {
   "cell_type": "code",
   "execution_count": 109,
   "metadata": {},
   "outputs": [],
   "source": [
    "y_pred = y_pred.astype('int64')\n",
    "\n",
    "submission_format = pd.read_csv(r'C:\\Users\\Windows 10\\Desktop\\Degue project\\submission_format.csv')"
   ]
  },
  {
   "cell_type": "code",
   "execution_count": 110,
   "metadata": {},
   "outputs": [],
   "source": [
    "submission_format.total_cases= y_pred\n",
    "exported_output = submission_format.to_csv(r'C:\\Users\\Windows 10\\Desktop\\Degue project\\exported_output_6.csv' , index = None, header = True)"
   ]
  },
  {
   "cell_type": "code",
   "execution_count": null,
   "metadata": {},
   "outputs": [],
   "source": []
  }
 ],
 "metadata": {
  "kernelspec": {
   "display_name": "Python 3",
   "language": "python",
   "name": "python3"
  },
  "language_info": {
   "codemirror_mode": {
    "name": "ipython",
    "version": 3
   },
   "file_extension": ".py",
   "mimetype": "text/x-python",
   "name": "python",
   "nbconvert_exporter": "python",
   "pygments_lexer": "ipython3",
   "version": "3.6.4"
  }
 },
 "nbformat": 4,
 "nbformat_minor": 2
}
