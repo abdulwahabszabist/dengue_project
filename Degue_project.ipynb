{
 "cells": [
  {
   "cell_type": "code",
   "execution_count": 81,
   "metadata": {},
   "outputs": [],
   "source": [
    "import numpy as np\n",
    "import pandas as pd"
   ]
  },
  {
   "cell_type": "code",
   "execution_count": 82,
   "metadata": {},
   "outputs": [],
   "source": [
    "X_test = pd.read_csv(r'C:\\Users\\Windows 10\\Desktop\\Degue project\\dengue_features_test.csv')"
   ]
  },
  {
   "cell_type": "code",
   "execution_count": 83,
   "metadata": {},
   "outputs": [],
   "source": [
    "X_train = pd.read_csv(r'C:\\Users\\Windows 10\\Desktop\\Degue project\\dengue_features_train.csv')"
   ]
  },
  {
   "cell_type": "code",
   "execution_count": 84,
   "metadata": {},
   "outputs": [],
   "source": [
    "y_train = pd.read_csv(r'C:\\Users\\Windows 10\\Desktop\\Degue project\\dengue_labels_train.csv')"
   ]
  },
  {
   "cell_type": "code",
   "execution_count": 85,
   "metadata": {},
   "outputs": [
    {
     "data": {
      "text/plain": [
       "city                                     False\n",
       "year                                     False\n",
       "weekofyear                               False\n",
       "week_start_date                          False\n",
       "ndvi_ne                                   True\n",
       "ndvi_nw                                   True\n",
       "ndvi_se                                   True\n",
       "ndvi_sw                                   True\n",
       "precipitation_amt_mm                      True\n",
       "reanalysis_air_temp_k                     True\n",
       "reanalysis_avg_temp_k                     True\n",
       "reanalysis_dew_point_temp_k               True\n",
       "reanalysis_max_air_temp_k                 True\n",
       "reanalysis_min_air_temp_k                 True\n",
       "reanalysis_precip_amt_kg_per_m2           True\n",
       "reanalysis_relative_humidity_percent      True\n",
       "reanalysis_sat_precip_amt_mm              True\n",
       "reanalysis_specific_humidity_g_per_kg     True\n",
       "reanalysis_tdtr_k                         True\n",
       "station_avg_temp_c                        True\n",
       "station_diur_temp_rng_c                   True\n",
       "station_max_temp_c                        True\n",
       "station_min_temp_c                        True\n",
       "station_precip_mm                         True\n",
       "dtype: bool"
      ]
     },
     "execution_count": 85,
     "metadata": {},
     "output_type": "execute_result"
    }
   ],
   "source": [
    "X_train.isnull().any()"
   ]
  },
  {
   "cell_type": "code",
   "execution_count": 86,
   "metadata": {},
   "outputs": [],
   "source": [
    "X_train.fillna(0, inplace=True)"
   ]
  },
  {
   "cell_type": "code",
   "execution_count": 87,
   "metadata": {},
   "outputs": [
    {
     "data": {
      "text/plain": [
       "city                                     False\n",
       "year                                     False\n",
       "weekofyear                               False\n",
       "week_start_date                          False\n",
       "ndvi_ne                                  False\n",
       "ndvi_nw                                  False\n",
       "ndvi_se                                  False\n",
       "ndvi_sw                                  False\n",
       "precipitation_amt_mm                     False\n",
       "reanalysis_air_temp_k                    False\n",
       "reanalysis_avg_temp_k                    False\n",
       "reanalysis_dew_point_temp_k              False\n",
       "reanalysis_max_air_temp_k                False\n",
       "reanalysis_min_air_temp_k                False\n",
       "reanalysis_precip_amt_kg_per_m2          False\n",
       "reanalysis_relative_humidity_percent     False\n",
       "reanalysis_sat_precip_amt_mm             False\n",
       "reanalysis_specific_humidity_g_per_kg    False\n",
       "reanalysis_tdtr_k                        False\n",
       "station_avg_temp_c                       False\n",
       "station_diur_temp_rng_c                  False\n",
       "station_max_temp_c                       False\n",
       "station_min_temp_c                       False\n",
       "station_precip_mm                        False\n",
       "dtype: bool"
      ]
     },
     "execution_count": 87,
     "metadata": {},
     "output_type": "execute_result"
    }
   ],
   "source": [
    "X_train.isnull().any()"
   ]
  },
  {
   "cell_type": "code",
   "execution_count": 88,
   "metadata": {},
   "outputs": [
    {
     "data": {
      "text/plain": [
       "city                                     False\n",
       "year                                     False\n",
       "weekofyear                               False\n",
       "week_start_date                          False\n",
       "ndvi_ne                                   True\n",
       "ndvi_nw                                   True\n",
       "ndvi_se                                   True\n",
       "ndvi_sw                                   True\n",
       "precipitation_amt_mm                      True\n",
       "reanalysis_air_temp_k                     True\n",
       "reanalysis_avg_temp_k                     True\n",
       "reanalysis_dew_point_temp_k               True\n",
       "reanalysis_max_air_temp_k                 True\n",
       "reanalysis_min_air_temp_k                 True\n",
       "reanalysis_precip_amt_kg_per_m2           True\n",
       "reanalysis_relative_humidity_percent      True\n",
       "reanalysis_sat_precip_amt_mm              True\n",
       "reanalysis_specific_humidity_g_per_kg     True\n",
       "reanalysis_tdtr_k                         True\n",
       "station_avg_temp_c                        True\n",
       "station_diur_temp_rng_c                   True\n",
       "station_max_temp_c                        True\n",
       "station_min_temp_c                        True\n",
       "station_precip_mm                         True\n",
       "dtype: bool"
      ]
     },
     "execution_count": 88,
     "metadata": {},
     "output_type": "execute_result"
    }
   ],
   "source": [
    "X_test.isnull().any()"
   ]
  },
  {
   "cell_type": "code",
   "execution_count": 89,
   "metadata": {},
   "outputs": [],
   "source": [
    "X_test.fillna(0, inplace=True)"
   ]
  },
  {
   "cell_type": "code",
   "execution_count": 90,
   "metadata": {},
   "outputs": [
    {
     "data": {
      "text/plain": [
       "city                                     False\n",
       "year                                     False\n",
       "weekofyear                               False\n",
       "week_start_date                          False\n",
       "ndvi_ne                                  False\n",
       "ndvi_nw                                  False\n",
       "ndvi_se                                  False\n",
       "ndvi_sw                                  False\n",
       "precipitation_amt_mm                     False\n",
       "reanalysis_air_temp_k                    False\n",
       "reanalysis_avg_temp_k                    False\n",
       "reanalysis_dew_point_temp_k              False\n",
       "reanalysis_max_air_temp_k                False\n",
       "reanalysis_min_air_temp_k                False\n",
       "reanalysis_precip_amt_kg_per_m2          False\n",
       "reanalysis_relative_humidity_percent     False\n",
       "reanalysis_sat_precip_amt_mm             False\n",
       "reanalysis_specific_humidity_g_per_kg    False\n",
       "reanalysis_tdtr_k                        False\n",
       "station_avg_temp_c                       False\n",
       "station_diur_temp_rng_c                  False\n",
       "station_max_temp_c                       False\n",
       "station_min_temp_c                       False\n",
       "station_precip_mm                        False\n",
       "dtype: bool"
      ]
     },
     "execution_count": 90,
     "metadata": {},
     "output_type": "execute_result"
    }
   ],
   "source": [
    "X_test.isnull().any()"
   ]
  },
  {
   "cell_type": "code",
   "execution_count": 91,
   "metadata": {},
   "outputs": [],
   "source": [
    "# Removing the coloumns\n",
    "X_train.drop(['city', 'year', 'weekofyear', 'week_start_date'], axis=1, inplace=True)\n",
    "X_test.drop(['city', 'year', 'weekofyear', 'week_start_date'], axis=1, inplace=True)\n",
    "\n",
    "# Selecting y values\n",
    "y_train = y_train.total_cases.loc[X_train.index]"
   ]
  },
  {
   "cell_type": "code",
   "execution_count": 92,
   "metadata": {},
   "outputs": [],
   "source": [
    "from sklearn import preprocessing\n",
    "\n",
    "#normalizing the data\n",
    "normalized_X_test = preprocessing.normalize(X_test)\n",
    "normalized_X_train = preprocessing.normalize(X_train)"
   ]
  },
  {
   "cell_type": "code",
   "execution_count": 93,
   "metadata": {},
   "outputs": [
    {
     "data": {
      "text/plain": [
       "array([  8.5,  24.5,   9.5,  14. ,   2.5,  90.5,   5. ,  22.5,  25.5,\n",
       "        25.5,  47.5,  19.5,  58.5,  27. , 215.5,  10. ,  27. , 107.5,\n",
       "         8.5, 173.5,  14. ,   2.5,  31. ,  11.5,  41. ,  53. ,  10. ,\n",
       "        28. ,  31. ,  14.5,  22.5,  19.5,   7. ,  22. ,  39. ,   2.5,\n",
       "        18. ,  31. ,  25.5,  17.5,  11. ,  15.5,  12.5,   7. ,  13.5,\n",
       "        16. ,  13. ,   3. ,   1.5,  13. ,   7.5,  38. ,  49. ,   8.5,\n",
       "        72.5,  18.5,  40. ,  45.5,  13. ,   9. ,  19.5,   5. ,  15. ,\n",
       "        19. ,   5. ,  14.5,  11.5, 150.5,  33. ,  64.5,   7.5,  25.5,\n",
       "         7.5,  14. ,  21. ,  35. ,  12.5,  20. ,  35.5,  17.5,  24.5,\n",
       "         7.5,  71.5,  27. ,  57.5,  24.5,  34.5,   4.5,  25.5,  36.5,\n",
       "        10.5,  12. ,  40.5,   6. ,  21. ,  70. ,  20. ,  13.5,  62.5,\n",
       "         6.5,  34. ,  15. ,  20.5, 184. ,  20.5,  12. ,   8. ,  37.5,\n",
       "        44.5,  10.5,  11.5,   6.5,  18. ,  40.5, 180.5,  57. ,  14. ,\n",
       "        20.5,  38.5,  42.5,   8.5,   6. ,   6. ,  45. ,  54. ,  76. ,\n",
       "        52.5,  20.5,  33. ,  36. ,  26.5,  21.5,   1.5,  41.5,  13.5,\n",
       "        15. ,  30.5,   8. ,   3.5,  25.5,  19.5,  11.5,  12.5,  31. ,\n",
       "        23.5,  14. ,  27. ,  13.5,  28. ,  12. ,  32. ,  68.5,  19. ,\n",
       "        14. ,  23.5,  18. ,  41.5,  10. ,  27. ,   7.5,   0.5,  23. ,\n",
       "        19. ,   8.5,  13. , 211. ,  40.5,  29.5,   4. ,  13.5,  15. ,\n",
       "         5.5,  51.5,  10. ,   1.5,  40.5,  15.5,  60.5,  13.5,  24. ,\n",
       "        42. ,  31. ,  28.5,  37.5,  21. ,  35.5,  61. ,   6. ,   8. ,\n",
       "        36. ,  22. ,  36.5,  10.5,   9. ,   6. ,  15. ,  11.5,   2. ,\n",
       "         9. ,  22. ,  14.5,   6.5,   8.5,   6. ,  25.5,  41. ,  23.5,\n",
       "        30.5,  13. ,  15.5,  21. ,  34.5,  24.5,  26.5,   7.5,  45. ,\n",
       "        10. ,  31. ,  13.5,  12.5,  56.5,  45.5,  39. ,  11.5,  12. ,\n",
       "        11. ,   8. ,  54. ,  44. ,  32.5,  67. ,  16.5,  47. ,  66. ,\n",
       "        36. ,  10.5,  22. ,  80. ,  40.5,  44. ,  28.5,  46. ,  36.5,\n",
       "        43.5,   9. ,  14.5,   6.5,  27.5,  24. ,  19.5,   6. ,  11. ,\n",
       "        67. ,  20.5,  30.5,  10. ,  43. ,  16.5,  27. ,  15. ,  14. ,\n",
       "         4. ,  18. ,   1.5,   1. ,   9. ,   4.5,   1. ,   1. ,   0. ,\n",
       "         6.5,  15.5,   0.5,   3. ,  19. ,   8. ,   5.5,  10.5,   8.5,\n",
       "         4.5,  32.5,  72.5,   6.5,   6. ,   4. ,  19.5,  19. ,   5. ,\n",
       "        30.5,   7. ,  23.5,  22. ,   7. ,   7.5,  15.5,   4.5,   3. ,\n",
       "         2.5,  19. ,   6. ,   5.5,  10.5,   1.5,   2.5,   1.5,   1.5,\n",
       "         8.5,  19. ,   3. ,   2.5,   8.5,  14.5,   7. ,   9. ,  11. ,\n",
       "         2.5,  34. ,  11. ,  19. ,   9. ,   2.5,   4. ,   4. ,   2.5,\n",
       "        30.5,   4.5,   2. ,   6.5,   3. ,  23.5,   4.5,   6. ,   4.5,\n",
       "         2.5,   4.5,  17.5,   3.5,   8. ,  13.5,  33. ,   6.5,  12. ,\n",
       "         9.5,   4. ,  19. ,   7. ,  13.5,   3. ,   9. ,   6.5,   2.5,\n",
       "         6.5,  17.5,   9.5,  11.5,  13.5,   6.5,   3.5,   7.5,   6.5,\n",
       "         3. ,  32. ,  41.5,   5. ,   9. ,   2. ,  22.5,   4.5,   1.5,\n",
       "         0.5,   4.5,   3.5,   0.5,   7. ,   1.5,   2.5,   2.5,  94.5,\n",
       "         5.5,  13.5,   2. ,   2.5,   4. ,   0.5,   5. , 116. ,   8.5,\n",
       "         3.5,   5. ,   4.5,   3.5,   8.5,   5.5,  11. ,   8.5,   1.5,\n",
       "        15. ,   6. ,  12.5,  26. ,  47. ,   4. ,   4. ,   3. ,   2.5,\n",
       "       140.5,  14. ,   4. ,  10.5,   0.5,   4. ,  26. ,   1.5,   5.5,\n",
       "         4.5,   3.5])"
      ]
     },
     "execution_count": 93,
     "metadata": {},
     "output_type": "execute_result"
    }
   ],
   "source": [
    "from sklearn.neighbors import KNeighborsRegressor\n",
    "neigh = KNeighborsRegressor(n_neighbors=2)\n",
    "neigh.fit(normalized_X_train, y_train)\n",
    "\n",
    "y_pred = neigh.predict(normalized_X_test)\n",
    "\n",
    "y_pred"
   ]
  },
  {
   "cell_type": "code",
   "execution_count": 94,
   "metadata": {},
   "outputs": [],
   "source": [
    "y_pred = y_pred.astype('int64')\n",
    "\n",
    "submission_format = pd.read_csv(r'C:\\Users\\Windows 10\\Desktop\\Degue project\\submission_format.csv')"
   ]
  },
  {
   "cell_type": "code",
   "execution_count": 95,
   "metadata": {},
   "outputs": [],
   "source": [
    "submission_format.total_cases= y_pred\n",
    "exported_output = submission_format.to_csv(r'C:\\Users\\Windows 10\\Desktop\\Degue project\\exported_output.csv' , index = None, header = True)"
   ]
  },
  {
   "cell_type": "code",
   "execution_count": null,
   "metadata": {},
   "outputs": [],
   "source": []
  }
 ],
 "metadata": {
  "kernelspec": {
   "display_name": "Python 3",
   "language": "python",
   "name": "python3"
  },
  "language_info": {
   "codemirror_mode": {
    "name": "ipython",
    "version": 3
   },
   "file_extension": ".py",
   "mimetype": "text/x-python",
   "name": "python",
   "nbconvert_exporter": "python",
   "pygments_lexer": "ipython3",
   "version": "3.6.4"
  }
 },
 "nbformat": 4,
 "nbformat_minor": 2
}
